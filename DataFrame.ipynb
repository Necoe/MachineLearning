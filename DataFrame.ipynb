{
 "cells": [
  {
   "cell_type": "markdown",
   "id": "e05cd2d4",
   "metadata": {},
   "source": [
    "### DataFrame 的创建\n",
    "第一步骤，永远是选择解释器"
   ]
  },
  {
   "cell_type": "code",
   "execution_count": null,
   "id": "c9150b87",
   "metadata": {},
   "outputs": [],
   "source": [
    "import pandas as pd\n",
    "import numpy as np\n",
    "#1通过series来创建df\n",
    "s1= pd.Series([1,2,3,4,5])\n",
    "s2= pd.Series([6,7,8,9,10])\n",
    "df = pd.DataFrame({\"第一列\":s1,\"第二列\":s2})"
   ]
  },
  {
   "cell_type": "code",
   "execution_count": null,
   "id": "66ad073b",
   "metadata": {},
   "outputs": [],
   "source": [
    "print(df,type(df),type(df[\"第一列\"]))"
   ]
  },
  {
   "cell_type": "code",
   "execution_count": null,
   "id": "cd83b401",
   "metadata": {},
   "outputs": [],
   "source": [
    "#通过字典来创建\n",
    "df= pd.DataFrame(\n",
    "    {\n",
    "        \"name\":[\"john\",\"neo\",\"chali\",\"xialuo\",\"lei\"],\n",
    "        \"age\":[23,32,43,56,12],\n",
    "        \"score\":[11,22,33,44,55]\n",
    "    }, index=[1, 2, 3, 4, 5],columns=[\"name\",\"age\",\"score\"]\n",
    ")\n",
    "df"
   ]
  },
  {
   "cell_type": "markdown",
   "id": "4c7061b7",
   "metadata": {},
   "source": [
    "### DataFrame的属性"
   ]
  },
  {
   "cell_type": "code",
   "execution_count": null,
   "id": "be4cce7f",
   "metadata": {},
   "outputs": [],
   "source": [
    "print(\"行索引：\")\n",
    "print(df.index)\n",
    "print(\"列标签：\")\n",
    "print(df.columns)\n",
    "print(\"值\")\n",
    "print(df.values)"
   ]
  },
  {
   "cell_type": "code",
   "execution_count": null,
   "id": "5f5b26b9",
   "metadata": {},
   "outputs": [],
   "source": [
    "print(\"维度：\", df.ndim)\n",
    "print(\"形状\",df.shape)\n",
    "print(\"元素个数\",df.size)\n",
    "print(\"数据类型:\", df.dtypes)"
   ]
  },
  {
   "cell_type": "code",
   "execution_count": null,
   "id": "33a1107d",
   "metadata": {},
   "outputs": [],
   "source": [
    "#行列转置\n",
    "# print(df.T)\n",
    "df"
   ]
  },
  {
   "cell_type": "code",
   "execution_count": null,
   "id": "ba2d72b9",
   "metadata": {},
   "outputs": [],
   "source": [
    "# 获取元素 loc iloc at iat\n",
    "# 某行\n",
    "print(df.loc[4])   # loc 是显式索引，可以用index\n",
    "print(df.iloc[3])  # iloc 是隐式索引，只从零开始，不是index"
   ]
  },
  {
   "cell_type": "code",
   "execution_count": null,
   "id": "c52ca8f5",
   "metadata": {},
   "outputs": [],
   "source": [
    "df"
   ]
  },
  {
   "cell_type": "code",
   "execution_count": null,
   "id": "20b9e954",
   "metadata": {},
   "outputs": [],
   "source": [
    "# 某列数据\n",
    "print(df.loc[:,\"name\"])\n",
    "print(df.iloc[:,0])\n",
    "df"
   ]
  },
  {
   "cell_type": "code",
   "execution_count": null,
   "id": "65808e1d",
   "metadata": {},
   "outputs": [],
   "source": [
    "#获取单个元素，单个数据\n",
    "print(df.at[3,\"age\"])\n",
    "print(df.iat[2,1])\n",
    "print(df.loc[3,\"age\"])\n",
    "print(df.iloc[2,1])"
   ]
  },
  {
   "cell_type": "markdown",
   "id": "1d778d6d",
   "metadata": {},
   "source": [
    "### 获取单列数据"
   ]
  },
  {
   "cell_type": "code",
   "execution_count": null,
   "id": "5610c49b",
   "metadata": {},
   "outputs": [],
   "source": [
    "print(df['name'])   #类型是series\n",
    "print(df.name)\n",
    "print(df[[\"name\"]])  # 类型是df"
   ]
  },
  {
   "cell_type": "markdown",
   "id": "0199c89e",
   "metadata": {},
   "source": [
    "### 获取多列数据"
   ]
  },
  {
   "cell_type": "code",
   "execution_count": null,
   "id": "d421b925",
   "metadata": {},
   "outputs": [],
   "source": [
    "print(df[[\"name\",\"age\",\"score\"]])"
   ]
  },
  {
   "cell_type": "markdown",
   "id": "2bb5cdfd",
   "metadata": {},
   "source": [
    "### 查看部分数据"
   ]
  },
  {
   "cell_type": "code",
   "execution_count": null,
   "id": "9e33ed7f",
   "metadata": {},
   "outputs": [],
   "source": [
    "print(df.head())"
   ]
  },
  {
   "cell_type": "code",
   "execution_count": null,
   "id": "9eef75d8",
   "metadata": {},
   "outputs": [],
   "source": [
    "print(df.tail(3))"
   ]
  },
  {
   "cell_type": "markdown",
   "id": "5ce6e7f0",
   "metadata": {},
   "source": [
    "### 使用布尔索引来进行筛选"
   ]
  },
  {
   "cell_type": "code",
   "execution_count": null,
   "id": "2ab21d8f",
   "metadata": {},
   "outputs": [],
   "source": [
    "df.score>40"
   ]
  },
  {
   "cell_type": "code",
   "execution_count": null,
   "id": "0f730a02",
   "metadata": {},
   "outputs": [],
   "source": [
    "df[df.score>40]  # 单个条件"
   ]
  },
  {
   "cell_type": "code",
   "execution_count": null,
   "id": "21228761",
   "metadata": {},
   "outputs": [],
   "source": [
    "df[(df.score>30) & (df.age<40)]  #多个条件，不能用and"
   ]
  },
  {
   "cell_type": "markdown",
   "id": "9470dfa9",
   "metadata": {},
   "source": [
    "### 随机抽样"
   ]
  },
  {
   "cell_type": "code",
   "execution_count": null,
   "id": "8de2d523",
   "metadata": {},
   "outputs": [],
   "source": [
    "df.sample()"
   ]
  },
  {
   "cell_type": "markdown",
   "id": "d498d25d",
   "metadata": {},
   "source": [
    "### DataFrame 常用方法"
   ]
  },
  {
   "cell_type": "code",
   "execution_count": null,
   "id": "d29eb393",
   "metadata": {},
   "outputs": [],
   "source": [
    "print(df.head())\n",
    "print(df.tail())\n"
   ]
  },
  {
   "cell_type": "code",
   "execution_count": null,
   "id": "42476875",
   "metadata": {},
   "outputs": [],
   "source": [
    "print(df.isin([\"neo\",22]))   # 查看元素是否在参数集合中\n",
    "print(df.isna()) #查看是否有缺失值\n",
    "print(df.sum())\n",
    "print(df.score.sum())\n",
    "print(df.score.max())\n",
    "print(df.age.mean())\n",
    "print(df.age.median())\n",
    "print(df.score.mode())"
   ]
  },
  {
   "cell_type": "code",
   "execution_count": null,
   "id": "6262a7d9",
   "metadata": {},
   "outputs": [],
   "source": [
    "print(df.score.std())\n",
    "print(df.score.var())\n",
    "print(df.score.quantile(0.25))"
   ]
  },
  {
   "cell_type": "code",
   "execution_count": null,
   "id": "58c03873",
   "metadata": {},
   "outputs": [],
   "source": [
    "print(df.describe())"
   ]
  },
  {
   "cell_type": "code",
   "execution_count": null,
   "id": "8a0b522a",
   "metadata": {},
   "outputs": [],
   "source": [
    "print(df.count())  # 每一列非缺失值的个数"
   ]
  },
  {
   "cell_type": "code",
   "execution_count": null,
   "id": "c368164d",
   "metadata": {},
   "outputs": [],
   "source": [
    "print(df.drop_duplicates())  # 去重复"
   ]
  },
  {
   "cell_type": "code",
   "execution_count": null,
   "id": "eb4a6699",
   "metadata": {},
   "outputs": [],
   "source": [
    "print(df.duplicated(subset=['age']))    # 检查是否重复"
   ]
  },
  {
   "cell_type": "code",
   "execution_count": null,
   "id": "ad0c6eb3",
   "metadata": {},
   "outputs": [],
   "source": [
    "df.sample(2)"
   ]
  },
  {
   "cell_type": "code",
   "execution_count": null,
   "id": "05ffc00e",
   "metadata": {},
   "outputs": [],
   "source": [
    "print(df.replace(11,22))"
   ]
  },
  {
   "cell_type": "code",
   "execution_count": null,
   "id": "73a7c7d3",
   "metadata": {},
   "outputs": [],
   "source": [
    "print(df.cumsum())"
   ]
  },
  {
   "cell_type": "code",
   "execution_count": null,
   "id": "0a2d997f",
   "metadata": {},
   "outputs": [],
   "source": [
    "print(df.sort_index(ascending=False))"
   ]
  },
  {
   "cell_type": "code",
   "execution_count": null,
   "id": "d2e0f30f",
   "metadata": {},
   "outputs": [],
   "source": [
    "print(df.sort_values(by='score',ascending=False))  # 按值排序"
   ]
  },
  {
   "cell_type": "code",
   "execution_count": null,
   "id": "3ca78dc3",
   "metadata": {},
   "outputs": [],
   "source": []
  },
  {
   "cell_type": "markdown",
   "id": "885cc0b1",
   "metadata": {},
   "source": [
    "### 场景分析题应用\n"
   ]
  },
  {
   "cell_type": "markdown",
   "id": "599edaec",
   "metadata": {},
   "source": [
    "场景：某班级的学生成绩数据如下，请完成以下任务：\n",
    "1.计算每位学生的总分和平均分。\n",
    "\n",
    "2.找出数学成绩高于90分或英语成绩高于85分的学生。\n",
    "\n",
    "3.按总分从高到低排序，并输出前3名学生。\n",
    "\n",
    "'姓名'：['张三'，'李四'，'王五'，'赵六'，'钱七']，\n",
    "\n",
    "'数学'：[85，92，78，88，95]，\n",
    "\n",
    "'英语'：[90，88，85，92，80]，\n",
    "\n",
    "'物理'：[75，80，88，85，90]"
   ]
  },
  {
   "cell_type": "code",
   "execution_count": null,
   "id": "b7dae721",
   "metadata": {},
   "outputs": [],
   "source": [
    "data = {\n",
    "'姓名':['张三','李四','王五','赵六','钱七'],\n",
    "\n",
    "'数学':[85,92,78,88,95],\n",
    "\n",
    "'英语':[90,88,85,92,80],\n",
    "\n",
    "'物理':[75,80,88,85,90]\n",
    "}"
   ]
  },
  {
   "cell_type": "code",
   "execution_count": 118,
   "id": "f74b2c9c",
   "metadata": {},
   "outputs": [
    {
     "name": "stdout",
     "output_type": "stream",
     "text": [
      "   姓名  数学  英语  物理\n",
      "0  张三  85  90  75\n",
      "1  李四  92  88  80\n",
      "2  王五  78  85  88\n",
      "3  赵六  88  92  85\n",
      "4  钱七  95  80  90\n"
     ]
    },
    {
     "data": {
      "text/html": [
       "<div>\n",
       "<style scoped>\n",
       "    .dataframe tbody tr th:only-of-type {\n",
       "        vertical-align: middle;\n",
       "    }\n",
       "\n",
       "    .dataframe tbody tr th {\n",
       "        vertical-align: top;\n",
       "    }\n",
       "\n",
       "    .dataframe thead th {\n",
       "        text-align: right;\n",
       "    }\n",
       "</style>\n",
       "<table border=\"1\" class=\"dataframe\">\n",
       "  <thead>\n",
       "    <tr style=\"text-align: right;\">\n",
       "      <th></th>\n",
       "      <th>姓名</th>\n",
       "      <th>数学</th>\n",
       "      <th>英语</th>\n",
       "      <th>物理</th>\n",
       "      <th>总分</th>\n",
       "      <th>平均分</th>\n",
       "    </tr>\n",
       "  </thead>\n",
       "  <tbody>\n",
       "    <tr>\n",
       "      <th>4</th>\n",
       "      <td>钱七</td>\n",
       "      <td>95</td>\n",
       "      <td>80</td>\n",
       "      <td>90</td>\n",
       "      <td>265</td>\n",
       "      <td>88.33</td>\n",
       "    </tr>\n",
       "    <tr>\n",
       "      <th>3</th>\n",
       "      <td>赵六</td>\n",
       "      <td>88</td>\n",
       "      <td>92</td>\n",
       "      <td>85</td>\n",
       "      <td>265</td>\n",
       "      <td>88.33</td>\n",
       "    </tr>\n",
       "    <tr>\n",
       "      <th>1</th>\n",
       "      <td>李四</td>\n",
       "      <td>92</td>\n",
       "      <td>88</td>\n",
       "      <td>80</td>\n",
       "      <td>260</td>\n",
       "      <td>86.67</td>\n",
       "    </tr>\n",
       "  </tbody>\n",
       "</table>\n",
       "</div>"
      ],
      "text/plain": [
       "   姓名  数学  英语  物理   总分    平均分\n",
       "4  钱七  95  80  90  265  88.33\n",
       "3  赵六  88  92  85  265  88.33\n",
       "1  李四  92  88  80  260  86.67"
      ]
     },
     "execution_count": 118,
     "metadata": {},
     "output_type": "execute_result"
    }
   ],
   "source": [
    "scores = pd.DataFrame(data)\n",
    "print(scores)\n",
    "# 1.计算每位学生的总分和平均分。\n",
    "scores['总分']=scores[[\"数学\",\"英语\",\"物理\"]].sum(axis=1)\n",
    "scores['平均分']=round(scores[\"总分\"]/3,2)\n",
    "scores\n",
    "# 2.找出数学成绩高于90分或英语成绩高于85分的学生。\n",
    "scores[(scores['数学'] > 90) & (scores['英语'] > 85)]\n",
    "# 3.按总分从高到低排序，并输出前3名学生。\n",
    "scores.sort_values(by='总分',ascending=False).head(3)"
   ]
  },
  {
   "cell_type": "code",
   "execution_count": null,
   "id": "94163802",
   "metadata": {},
   "outputs": [],
   "source": []
  }
 ],
 "metadata": {
  "kernelspec": {
   "display_name": "Python 3",
   "language": "python",
   "name": "python3"
  },
  "language_info": {
   "codemirror_mode": {
    "name": "ipython",
    "version": 3
   },
   "file_extension": ".py",
   "mimetype": "text/x-python",
   "name": "python",
   "nbconvert_exporter": "python",
   "pygments_lexer": "ipython3",
   "version": "3.10.0"
  }
 },
 "nbformat": 4,
 "nbformat_minor": 5
}
